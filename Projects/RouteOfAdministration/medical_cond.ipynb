{
 "cells": [
  {
   "cell_type": "code",
   "execution_count": 3,
   "metadata": {
    "collapsed": true,
    "ExecuteTime": {
     "end_time": "2023-11-07T14:32:23.420468400Z",
     "start_time": "2023-11-07T14:32:12.320666200Z"
    }
   },
   "outputs": [],
   "source": [
    "import pandas as pd\n",
    "\n",
    "df = pd.read_excel('version/medical_conditions_v8_v1_a3.xlsx')"
   ]
  },
  {
   "cell_type": "code",
   "execution_count": 4,
   "outputs": [
    {
     "data": {
      "text/plain": "      Unnamed: 0       drug_name  Age Range           medical_condition_h3  \\\n0            367  dimenhydrinate      Adult  Prevention of Motion Sickness   \n1            367  dimenhydrinate      Adult  Prevention of Motion Sickness   \n2            367  dimenhydrinate      Adult  Prevention of Motion Sickness   \n3            368  dimenhydrinate      Adult  Meniere's Disease (Off-label)   \n4            369  dimenhydrinate      Adult  Meniere's Disease (Off-label)   \n...          ...             ...        ...                            ...   \n3995       20220      vardenafil      Adult           Erectile Dysfunction   \n3996       20221      vardenafil  Geriatric           Erectile Dysfunction   \n3997       20222      vardenafil  Geriatric           Erectile Dysfunction   \n3998       20223      vardenafil  Geriatric           Erectile Dysfunction   \n3999       20224      vardenafil  Geriatric           Erectile Dysfunction   \n\n     medical_condition_h4 medical_condition_h5  \\\n0                     NaN                  NaN   \n1                     NaN                  NaN   \n2                     NaN                  NaN   \n3                     NaN                  NaN   \n4                     NaN                  NaN   \n...                   ...                  ...   \n3995                  NaN                  NaN   \n3996                  NaN                  NaN   \n3997                  NaN                  NaN   \n3998                  NaN                  NaN   \n3999                  NaN                  NaN   \n\n                              dose_title dose dose_range_start dose_range_end  \\\n0                                    NaN  NaN               50            100   \n1                                    NaN  NaN               50            100   \n2                                    NaN  NaN               50            100   \n3                                    NaN  NaN               25             50   \n4                                    NaN   50               50             50   \n...                                  ...  ...              ...            ...   \n3995                                 NaN   10                5             20   \n3996                  Film-coated tablet   10                5             20   \n3997  Orally disintegrating tablet (ODT)   10              NaN            NaN   \n3998                  Film-coated tablet  NaN              NaN            NaN   \n3999                                 NaN    5              NaN            NaN   \n\n      ... maximum_dose_unit  max_dose_from_dose_unit age_range_start  \\\n0     ...               NaN                      NaN             NaN   \n1     ...               NaN                      NaN             NaN   \n2     ...               NaN                      NaN             NaN   \n3     ...               NaN                      NaN             NaN   \n4     ...               NaN                      NaN             NaN   \n...   ...               ...                      ...             ...   \n3995  ...               NaN                      NaN             NaN   \n3996  ...               NaN                      NaN             NaN   \n3997  ...               NaN                      NaN             NaN   \n3998  ...               NaN                      NaN              65   \n3999  ...               NaN                      NaN              65   \n\n     age_range_end age_range_unit body_weight_range_start  \\\n0              NaN            NaN                     NaN   \n1              NaN            NaN                     NaN   \n2              NaN            NaN                     NaN   \n3              NaN            NaN                     NaN   \n4              NaN            NaN                     NaN   \n...            ...            ...                     ...   \n3995           NaN            NaN                     NaN   \n3996            65          years                     NaN   \n3997            65          years                     NaN   \n3998           NaN            NaN                     NaN   \n3999           NaN            NaN                     NaN   \n\n     body_weight_range_end body_weight_range_unit  \\\n0                      NaN                    NaN   \n1                      NaN                    NaN   \n2                      NaN                    NaN   \n3                      NaN                    NaN   \n4                      NaN                    NaN   \n...                    ...                    ...   \n3995                   NaN                    NaN   \n3996                   NaN                    NaN   \n3997                   NaN                    NaN   \n3998                   NaN                    NaN   \n3999                   NaN                    NaN   \n\n                                              reference  PRN  \n0     50-100 mg PO/IV/IM q4-6hr PRN, 30 minutes befo...  0.0  \n1     50-100 mg PO/IV/IM q4-6hr PRN, 30 minutes befo...  0.0  \n2     50-100 mg PO/IV/IM q4-6hr PRN, 30 minutes befo...  0.0  \n3     25-50 mg PO q8hr for maintenance\\n\\n50 mg IM f...  0.0  \n4     25-50 mg PO q8hr for maintenance\\n\\n50 mg IM f...  0.0  \n...                                                 ...  ...  \n3995  10 mg PO ~1 hour before sexual activity; may b...  NaN  \n3996  <65 years\\n\\nFilm-coated tablet: 10 mg PO ~1 h...  0.0  \n3997  <65 years\\n\\nFilm-coated tablet: 10 mg PO ~1 h...  0.0  \n3998  <65 years\\n\\nFilm-coated tablet: 10 mg PO ~1 h...  NaN  \n3999  <65 years\\n\\nFilm-coated tablet: 10 mg PO ~1 h...  NaN  \n\n[4000 rows x 33 columns]",
      "text/html": "<div>\n<style scoped>\n    .dataframe tbody tr th:only-of-type {\n        vertical-align: middle;\n    }\n\n    .dataframe tbody tr th {\n        vertical-align: top;\n    }\n\n    .dataframe thead th {\n        text-align: right;\n    }\n</style>\n<table border=\"1\" class=\"dataframe\">\n  <thead>\n    <tr style=\"text-align: right;\">\n      <th></th>\n      <th>Unnamed: 0</th>\n      <th>drug_name</th>\n      <th>Age Range</th>\n      <th>medical_condition_h3</th>\n      <th>medical_condition_h4</th>\n      <th>medical_condition_h5</th>\n      <th>dose_title</th>\n      <th>dose</th>\n      <th>dose_range_start</th>\n      <th>dose_range_end</th>\n      <th>...</th>\n      <th>maximum_dose_unit</th>\n      <th>max_dose_from_dose_unit</th>\n      <th>age_range_start</th>\n      <th>age_range_end</th>\n      <th>age_range_unit</th>\n      <th>body_weight_range_start</th>\n      <th>body_weight_range_end</th>\n      <th>body_weight_range_unit</th>\n      <th>reference</th>\n      <th>PRN</th>\n    </tr>\n  </thead>\n  <tbody>\n    <tr>\n      <th>0</th>\n      <td>367</td>\n      <td>dimenhydrinate</td>\n      <td>Adult</td>\n      <td>Prevention of Motion Sickness</td>\n      <td>NaN</td>\n      <td>NaN</td>\n      <td>NaN</td>\n      <td>NaN</td>\n      <td>50</td>\n      <td>100</td>\n      <td>...</td>\n      <td>NaN</td>\n      <td>NaN</td>\n      <td>NaN</td>\n      <td>NaN</td>\n      <td>NaN</td>\n      <td>NaN</td>\n      <td>NaN</td>\n      <td>NaN</td>\n      <td>50-100 mg PO/IV/IM q4-6hr PRN, 30 minutes befo...</td>\n      <td>0.0</td>\n    </tr>\n    <tr>\n      <th>1</th>\n      <td>367</td>\n      <td>dimenhydrinate</td>\n      <td>Adult</td>\n      <td>Prevention of Motion Sickness</td>\n      <td>NaN</td>\n      <td>NaN</td>\n      <td>NaN</td>\n      <td>NaN</td>\n      <td>50</td>\n      <td>100</td>\n      <td>...</td>\n      <td>NaN</td>\n      <td>NaN</td>\n      <td>NaN</td>\n      <td>NaN</td>\n      <td>NaN</td>\n      <td>NaN</td>\n      <td>NaN</td>\n      <td>NaN</td>\n      <td>50-100 mg PO/IV/IM q4-6hr PRN, 30 minutes befo...</td>\n      <td>0.0</td>\n    </tr>\n    <tr>\n      <th>2</th>\n      <td>367</td>\n      <td>dimenhydrinate</td>\n      <td>Adult</td>\n      <td>Prevention of Motion Sickness</td>\n      <td>NaN</td>\n      <td>NaN</td>\n      <td>NaN</td>\n      <td>NaN</td>\n      <td>50</td>\n      <td>100</td>\n      <td>...</td>\n      <td>NaN</td>\n      <td>NaN</td>\n      <td>NaN</td>\n      <td>NaN</td>\n      <td>NaN</td>\n      <td>NaN</td>\n      <td>NaN</td>\n      <td>NaN</td>\n      <td>50-100 mg PO/IV/IM q4-6hr PRN, 30 minutes befo...</td>\n      <td>0.0</td>\n    </tr>\n    <tr>\n      <th>3</th>\n      <td>368</td>\n      <td>dimenhydrinate</td>\n      <td>Adult</td>\n      <td>Meniere's Disease (Off-label)</td>\n      <td>NaN</td>\n      <td>NaN</td>\n      <td>NaN</td>\n      <td>NaN</td>\n      <td>25</td>\n      <td>50</td>\n      <td>...</td>\n      <td>NaN</td>\n      <td>NaN</td>\n      <td>NaN</td>\n      <td>NaN</td>\n      <td>NaN</td>\n      <td>NaN</td>\n      <td>NaN</td>\n      <td>NaN</td>\n      <td>25-50 mg PO q8hr for maintenance\\n\\n50 mg IM f...</td>\n      <td>0.0</td>\n    </tr>\n    <tr>\n      <th>4</th>\n      <td>369</td>\n      <td>dimenhydrinate</td>\n      <td>Adult</td>\n      <td>Meniere's Disease (Off-label)</td>\n      <td>NaN</td>\n      <td>NaN</td>\n      <td>NaN</td>\n      <td>50</td>\n      <td>50</td>\n      <td>50</td>\n      <td>...</td>\n      <td>NaN</td>\n      <td>NaN</td>\n      <td>NaN</td>\n      <td>NaN</td>\n      <td>NaN</td>\n      <td>NaN</td>\n      <td>NaN</td>\n      <td>NaN</td>\n      <td>25-50 mg PO q8hr for maintenance\\n\\n50 mg IM f...</td>\n      <td>0.0</td>\n    </tr>\n    <tr>\n      <th>...</th>\n      <td>...</td>\n      <td>...</td>\n      <td>...</td>\n      <td>...</td>\n      <td>...</td>\n      <td>...</td>\n      <td>...</td>\n      <td>...</td>\n      <td>...</td>\n      <td>...</td>\n      <td>...</td>\n      <td>...</td>\n      <td>...</td>\n      <td>...</td>\n      <td>...</td>\n      <td>...</td>\n      <td>...</td>\n      <td>...</td>\n      <td>...</td>\n      <td>...</td>\n      <td>...</td>\n    </tr>\n    <tr>\n      <th>3995</th>\n      <td>20220</td>\n      <td>vardenafil</td>\n      <td>Adult</td>\n      <td>Erectile Dysfunction</td>\n      <td>NaN</td>\n      <td>NaN</td>\n      <td>NaN</td>\n      <td>10</td>\n      <td>5</td>\n      <td>20</td>\n      <td>...</td>\n      <td>NaN</td>\n      <td>NaN</td>\n      <td>NaN</td>\n      <td>NaN</td>\n      <td>NaN</td>\n      <td>NaN</td>\n      <td>NaN</td>\n      <td>NaN</td>\n      <td>10 mg PO ~1 hour before sexual activity; may b...</td>\n      <td>NaN</td>\n    </tr>\n    <tr>\n      <th>3996</th>\n      <td>20221</td>\n      <td>vardenafil</td>\n      <td>Geriatric</td>\n      <td>Erectile Dysfunction</td>\n      <td>NaN</td>\n      <td>NaN</td>\n      <td>Film-coated tablet</td>\n      <td>10</td>\n      <td>5</td>\n      <td>20</td>\n      <td>...</td>\n      <td>NaN</td>\n      <td>NaN</td>\n      <td>NaN</td>\n      <td>65</td>\n      <td>years</td>\n      <td>NaN</td>\n      <td>NaN</td>\n      <td>NaN</td>\n      <td>&lt;65 years\\n\\nFilm-coated tablet: 10 mg PO ~1 h...</td>\n      <td>0.0</td>\n    </tr>\n    <tr>\n      <th>3997</th>\n      <td>20222</td>\n      <td>vardenafil</td>\n      <td>Geriatric</td>\n      <td>Erectile Dysfunction</td>\n      <td>NaN</td>\n      <td>NaN</td>\n      <td>Orally disintegrating tablet (ODT)</td>\n      <td>10</td>\n      <td>NaN</td>\n      <td>NaN</td>\n      <td>...</td>\n      <td>NaN</td>\n      <td>NaN</td>\n      <td>NaN</td>\n      <td>65</td>\n      <td>years</td>\n      <td>NaN</td>\n      <td>NaN</td>\n      <td>NaN</td>\n      <td>&lt;65 years\\n\\nFilm-coated tablet: 10 mg PO ~1 h...</td>\n      <td>0.0</td>\n    </tr>\n    <tr>\n      <th>3998</th>\n      <td>20223</td>\n      <td>vardenafil</td>\n      <td>Geriatric</td>\n      <td>Erectile Dysfunction</td>\n      <td>NaN</td>\n      <td>NaN</td>\n      <td>Film-coated tablet</td>\n      <td>NaN</td>\n      <td>NaN</td>\n      <td>NaN</td>\n      <td>...</td>\n      <td>NaN</td>\n      <td>NaN</td>\n      <td>65</td>\n      <td>NaN</td>\n      <td>NaN</td>\n      <td>NaN</td>\n      <td>NaN</td>\n      <td>NaN</td>\n      <td>&lt;65 years\\n\\nFilm-coated tablet: 10 mg PO ~1 h...</td>\n      <td>NaN</td>\n    </tr>\n    <tr>\n      <th>3999</th>\n      <td>20224</td>\n      <td>vardenafil</td>\n      <td>Geriatric</td>\n      <td>Erectile Dysfunction</td>\n      <td>NaN</td>\n      <td>NaN</td>\n      <td>NaN</td>\n      <td>5</td>\n      <td>NaN</td>\n      <td>NaN</td>\n      <td>...</td>\n      <td>NaN</td>\n      <td>NaN</td>\n      <td>65</td>\n      <td>NaN</td>\n      <td>NaN</td>\n      <td>NaN</td>\n      <td>NaN</td>\n      <td>NaN</td>\n      <td>&lt;65 years\\n\\nFilm-coated tablet: 10 mg PO ~1 h...</td>\n      <td>NaN</td>\n    </tr>\n  </tbody>\n</table>\n<p>4000 rows × 33 columns</p>\n</div>"
     },
     "execution_count": 4,
     "metadata": {},
     "output_type": "execute_result"
    }
   ],
   "source": [
    "df"
   ],
   "metadata": {
    "collapsed": false,
    "ExecuteTime": {
     "end_time": "2023-11-07T14:32:24.150517900Z",
     "start_time": "2023-11-07T14:32:23.423461900Z"
    }
   }
  },
  {
   "cell_type": "code",
   "execution_count": 5,
   "outputs": [
    {
     "data": {
      "text/plain": "Maintenance Dose                      136\nIncrease Dose                          61\nExtended release                       53\nDay 1                                  16\nMaximum Dose                           16\n                                     ... \nTarpeyo (reduction)                     1\nSolution                                1\nCrystals                                1\nProphylaxis (Infants)                   1\nOrally disintegrating tablet (ODT)      1\nName: dose_title, Length: 840, dtype: int64"
     },
     "execution_count": 5,
     "metadata": {},
     "output_type": "execute_result"
    }
   ],
   "source": [
    "df.dose_title.value_counts()"
   ],
   "metadata": {
    "collapsed": false,
    "ExecuteTime": {
     "end_time": "2023-11-07T14:32:25.809004700Z",
     "start_time": "2023-11-07T14:32:25.753156Z"
    }
   }
  },
  {
   "cell_type": "code",
   "execution_count": null,
   "outputs": [],
   "source": [],
   "metadata": {
    "collapsed": false
   }
  }
 ],
 "metadata": {
  "kernelspec": {
   "display_name": "Python 3",
   "language": "python",
   "name": "python3"
  },
  "language_info": {
   "codemirror_mode": {
    "name": "ipython",
    "version": 2
   },
   "file_extension": ".py",
   "mimetype": "text/x-python",
   "name": "python",
   "nbconvert_exporter": "python",
   "pygments_lexer": "ipython2",
   "version": "2.7.6"
  }
 },
 "nbformat": 4,
 "nbformat_minor": 0
}
