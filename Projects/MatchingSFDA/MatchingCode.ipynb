{
 "cells": [
  {
   "cell_type": "code",
   "execution_count": 28,
   "metadata": {
    "collapsed": true,
    "ExecuteTime": {
     "end_time": "2023-09-05T14:35:20.797994800Z",
     "start_time": "2023-09-05T14:35:20.772076700Z"
    }
   },
   "outputs": [
    {
     "data": {
      "text/plain": "                  Lexi Generic Names                         SFDA Generic  \\\n0                   Darbepoetin Alfa                     DARBEPOETIN ALFA   \n1                    Tranexamic Acid                      TRANEXAMIC ACID   \n2                 Certolizumab Pegol                   CERTOLIZUMAB PEGOL   \n3                       Azelaic Acid                         AZELAIC ACID   \n4                   Deoxycholic Acid                     DEOXYCHOLIC ACID   \n..                               ...                                  ...   \n945           Roflumilast (Systemic)                          ROFLUMILAST   \n946             Ribavirin (Systemic)                            RIBAVIRIN   \n947  Fusidic Acid and Hydrocortisone  FUSIDIC ACID,HYDROCORTISONE ACETATE   \n948                   Desvenlafaxine             DESVENLAFAXINE SUCCINATE   \n949        Budesonide and Formoterol       BUDESONIDE,FORMOTEROL FUMARATE   \n\n     Similarity Score  ScientificDescriptionCodeRoot  \n0            1.000000                     7000000350  \n1            1.000000                     7000001266  \n2            1.000000                     7000000256  \n3            1.000000                     7000000110  \n4            1.000000                     7000000362  \n..                ...                            ...  \n945          0.803298                     7000001116  \n946          0.803298                     7000001098  \n947          0.803248                    14000001188  \n948          0.801019                     7000000368  \n949          0.800045                    14000002492  \n\n[950 rows x 4 columns]",
      "text/html": "<div>\n<style scoped>\n    .dataframe tbody tr th:only-of-type {\n        vertical-align: middle;\n    }\n\n    .dataframe tbody tr th {\n        vertical-align: top;\n    }\n\n    .dataframe thead th {\n        text-align: right;\n    }\n</style>\n<table border=\"1\" class=\"dataframe\">\n  <thead>\n    <tr style=\"text-align: right;\">\n      <th></th>\n      <th>Lexi Generic Names</th>\n      <th>SFDA Generic</th>\n      <th>Similarity Score</th>\n      <th>ScientificDescriptionCodeRoot</th>\n    </tr>\n  </thead>\n  <tbody>\n    <tr>\n      <th>0</th>\n      <td>Darbepoetin Alfa</td>\n      <td>DARBEPOETIN ALFA</td>\n      <td>1.000000</td>\n      <td>7000000350</td>\n    </tr>\n    <tr>\n      <th>1</th>\n      <td>Tranexamic Acid</td>\n      <td>TRANEXAMIC ACID</td>\n      <td>1.000000</td>\n      <td>7000001266</td>\n    </tr>\n    <tr>\n      <th>2</th>\n      <td>Certolizumab Pegol</td>\n      <td>CERTOLIZUMAB PEGOL</td>\n      <td>1.000000</td>\n      <td>7000000256</td>\n    </tr>\n    <tr>\n      <th>3</th>\n      <td>Azelaic Acid</td>\n      <td>AZELAIC ACID</td>\n      <td>1.000000</td>\n      <td>7000000110</td>\n    </tr>\n    <tr>\n      <th>4</th>\n      <td>Deoxycholic Acid</td>\n      <td>DEOXYCHOLIC ACID</td>\n      <td>1.000000</td>\n      <td>7000000362</td>\n    </tr>\n    <tr>\n      <th>...</th>\n      <td>...</td>\n      <td>...</td>\n      <td>...</td>\n      <td>...</td>\n    </tr>\n    <tr>\n      <th>945</th>\n      <td>Roflumilast (Systemic)</td>\n      <td>ROFLUMILAST</td>\n      <td>0.803298</td>\n      <td>7000001116</td>\n    </tr>\n    <tr>\n      <th>946</th>\n      <td>Ribavirin (Systemic)</td>\n      <td>RIBAVIRIN</td>\n      <td>0.803298</td>\n      <td>7000001098</td>\n    </tr>\n    <tr>\n      <th>947</th>\n      <td>Fusidic Acid and Hydrocortisone</td>\n      <td>FUSIDIC ACID,HYDROCORTISONE ACETATE</td>\n      <td>0.803248</td>\n      <td>14000001188</td>\n    </tr>\n    <tr>\n      <th>948</th>\n      <td>Desvenlafaxine</td>\n      <td>DESVENLAFAXINE SUCCINATE</td>\n      <td>0.801019</td>\n      <td>7000000368</td>\n    </tr>\n    <tr>\n      <th>949</th>\n      <td>Budesonide and Formoterol</td>\n      <td>BUDESONIDE,FORMOTEROL FUMARATE</td>\n      <td>0.800045</td>\n      <td>14000002492</td>\n    </tr>\n  </tbody>\n</table>\n<p>950 rows × 4 columns</p>\n</div>"
     },
     "execution_count": 28,
     "metadata": {},
     "output_type": "execute_result"
    }
   ],
   "source": [
    "import pandas as pd\n",
    "\n",
    "df = pd.read_csv('E:\\Projects\\Web Scraping\\Drug Database\\Projects\\Matching\\\\data\\\\best_matches_code_root.csv')\n",
    "df"
   ]
  },
  {
   "cell_type": "code",
   "execution_count": 57,
   "outputs": [],
   "source": [
    "def edit(drug):\n",
    "    if '[' in drug:\n",
    "        drug = '['.join(drug.split('[')[:-1])\n",
    "        drug = drug.strip()\n",
    "    if '(' in drug:\n",
    "        drug = '('.join(drug.split('(')[:-1])\n",
    "        drug = drug.strip()\n",
    "    return drug"
   ],
   "metadata": {
    "collapsed": false,
    "ExecuteTime": {
     "end_time": "2023-09-05T15:17:09.574264900Z",
     "start_time": "2023-09-05T15:17:09.558639900Z"
    }
   }
  },
  {
   "cell_type": "code",
   "execution_count": 58,
   "outputs": [],
   "source": [
    "lexi_names = [lexi.lower() for lexi in list((df['Lexi Generic Names']))]\n",
    "lexi_names_ed = [edit(lexi.lower()) for lexi in list((df['Lexi Generic Names']))]\n",
    "sfda_names = [sfda.lower() for sfda in list((df['SFDA Generic']))]"
   ],
   "metadata": {
    "collapsed": false,
    "ExecuteTime": {
     "end_time": "2023-09-05T15:17:47.339955300Z",
     "start_time": "2023-09-05T15:17:47.324303700Z"
    }
   }
  },
  {
   "cell_type": "code",
   "execution_count": 38,
   "outputs": [
    {
     "data": {
      "text/plain": "           HJH Drug Name      Lexi Match Name\n0           acai extract                 Acai\n1               acarbose             Acarbose\n2            aceclofenac    Aceclofenac [INT]\n3    acellular pertussis  Acellular pertussis\n4             acemetacin     Acemetacin [INT]\n..                   ...                  ...\n980         theophylline         Theophylline\n981             thiamine             Thiamine\n982        thioctic acid    Alpha-Lipoic Acid\n983    thiopental sodium    Thiopental [INT] \n984                thyme                Thyme\n\n[985 rows x 2 columns]",
      "text/html": "<div>\n<style scoped>\n    .dataframe tbody tr th:only-of-type {\n        vertical-align: middle;\n    }\n\n    .dataframe tbody tr th {\n        vertical-align: top;\n    }\n\n    .dataframe thead th {\n        text-align: right;\n    }\n</style>\n<table border=\"1\" class=\"dataframe\">\n  <thead>\n    <tr style=\"text-align: right;\">\n      <th></th>\n      <th>HJH Drug Name</th>\n      <th>Lexi Match Name</th>\n    </tr>\n  </thead>\n  <tbody>\n    <tr>\n      <th>0</th>\n      <td>acai extract</td>\n      <td>Acai</td>\n    </tr>\n    <tr>\n      <th>1</th>\n      <td>acarbose</td>\n      <td>Acarbose</td>\n    </tr>\n    <tr>\n      <th>2</th>\n      <td>aceclofenac</td>\n      <td>Aceclofenac [INT]</td>\n    </tr>\n    <tr>\n      <th>3</th>\n      <td>acellular pertussis</td>\n      <td>Acellular pertussis</td>\n    </tr>\n    <tr>\n      <th>4</th>\n      <td>acemetacin</td>\n      <td>Acemetacin [INT]</td>\n    </tr>\n    <tr>\n      <th>...</th>\n      <td>...</td>\n      <td>...</td>\n    </tr>\n    <tr>\n      <th>980</th>\n      <td>theophylline</td>\n      <td>Theophylline</td>\n    </tr>\n    <tr>\n      <th>981</th>\n      <td>thiamine</td>\n      <td>Thiamine</td>\n    </tr>\n    <tr>\n      <th>982</th>\n      <td>thioctic acid</td>\n      <td>Alpha-Lipoic Acid</td>\n    </tr>\n    <tr>\n      <th>983</th>\n      <td>thiopental sodium</td>\n      <td>Thiopental [INT]</td>\n    </tr>\n    <tr>\n      <th>984</th>\n      <td>thyme</td>\n      <td>Thyme</td>\n    </tr>\n  </tbody>\n</table>\n<p>985 rows × 2 columns</p>\n</div>"
     },
     "execution_count": 38,
     "metadata": {},
     "output_type": "execute_result"
    }
   ],
   "source": [
    "df_hjh = pd.read_excel('E:\\Projects\\Web Scraping\\Drug Database\\Projects\\Matching\\data\\HJH-Lexicomp.xlsx')\n",
    "df_hjh"
   ],
   "metadata": {
    "collapsed": false,
    "ExecuteTime": {
     "end_time": "2023-09-05T14:44:14.074255100Z",
     "start_time": "2023-09-05T14:44:13.996148800Z"
    }
   }
  },
  {
   "cell_type": "code",
   "execution_count": 39,
   "outputs": [
    {
     "data": {
      "text/plain": "93"
     },
     "execution_count": 39,
     "metadata": {},
     "output_type": "execute_result"
    }
   ],
   "source": [
    "ind = lexi_names.index('Acarbose'.lower())\n",
    "ind"
   ],
   "metadata": {
    "collapsed": false,
    "ExecuteTime": {
     "end_time": "2023-09-05T14:44:15.633287400Z",
     "start_time": "2023-09-05T14:44:15.602040100Z"
    }
   }
  },
  {
   "cell_type": "code",
   "execution_count": 40,
   "outputs": [
    {
     "data": {
      "text/plain": "7000000005"
     },
     "execution_count": 40,
     "metadata": {},
     "output_type": "execute_result"
    }
   ],
   "source": [
    "df['ScientificDescriptionCodeRoot'].iloc[ind]"
   ],
   "metadata": {
    "collapsed": false,
    "ExecuteTime": {
     "end_time": "2023-09-05T14:44:17.153704900Z",
     "start_time": "2023-09-05T14:44:17.120737700Z"
    }
   }
  },
  {
   "cell_type": "code",
   "execution_count": 65,
   "outputs": [],
   "source": [
    "drugs_hjh, drugs_lexi, sci_code = [],[],[]\n",
    "\n",
    "for i in range(len(df_hjh)):\n",
    "    drug = df_hjh['HJH Drug Name'].iloc[i]\n",
    "    elem_drug = df_hjh['Lexi Match Name'].iloc[i]\n",
    "\n",
    "    if drug.lower() in lexi_names:\n",
    "        ind = lexi_names.index(drug.lower()); code = df['ScientificDescriptionCodeRoot'].iloc[ind]\n",
    "        drugs_hjh.append(drug.capitalize()); drugs_lexi.append(lexi_names[ind]); sci_code.append(code)\n",
    "\n",
    "    elif drug.lower() in lexi_names_ed:\n",
    "        ind = lexi_names_ed.index(drug.lower()); code = df['ScientificDescriptionCodeRoot'].iloc[ind]\n",
    "        drugs_hjh.append(drug.capitalize()); drugs_lexi.append(lexi_names[ind]); sci_code.append(code)\n",
    "\n",
    "    elif elem_drug.lower() in lexi_names:\n",
    "        ind = lexi_names.index(elem_drug.lower()); code = df['ScientificDescriptionCodeRoot'].iloc[ind]\n",
    "        drugs_hjh.append(drug.capitalize()); drugs_lexi.append(lexi_names[ind]); sci_code.append(code)\n",
    "\n",
    "    elif elem_drug.lower() in lexi_names_ed:\n",
    "        ind = lexi_names_ed.index(elem_drug.lower()); code = df['ScientificDescriptionCodeRoot'].iloc[ind]\n",
    "        drugs_hjh.append(drug.capitalize()); drugs_lexi.append(lexi_names[ind]); sci_code.append(code)\n",
    "\n",
    "    elif drug.lower() in sfda_names:\n",
    "        ind = sfda_names.index(drug.lower()); code = df['ScientificDescriptionCodeRoot'].iloc[ind]\n",
    "        drugs_hjh.append(drug.capitalize()); drugs_lexi.append(lexi_names[ind]); sci_code.append(code)\n",
    "\n",
    "    elif elem_drug.lower() in sfda_names:\n",
    "        ind = sfda_names.index(elem_drug.lower()); code = df['ScientificDescriptionCodeRoot'].iloc[ind]\n",
    "        drugs_hjh.append(drug.capitalize()); drugs_lexi.append(lexi_names[ind]); sci_code.append(code)"
   ],
   "metadata": {
    "collapsed": false,
    "ExecuteTime": {
     "end_time": "2023-09-05T15:21:24.535350400Z",
     "start_time": "2023-09-05T15:21:24.440754Z"
    }
   }
  },
  {
   "cell_type": "code",
   "execution_count": 66,
   "outputs": [
    {
     "data": {
      "text/plain": "['Acarbose',\n 'Acetazolamide',\n 'Acetylcysteine',\n 'Acetylsalicylic acid (aspirin)',\n 'Adalimumab',\n 'Adapalene',\n 'Adenosine',\n 'Albendazole',\n 'Alendronate',\n 'Alfacalcidol',\n 'Alfuzosin',\n 'Allopurinol',\n 'Alprazolam',\n 'Alprostadil',\n 'Alteplase (tissue plasminogen activator)',\n 'Aluminium and magnesium hydroxide',\n 'Aluminum hydroxide',\n 'Amantadine sulfate',\n 'Amiloride',\n 'Aminophylline',\n 'Amiodarone',\n 'Amitriptyline',\n 'Amitriptyline hydrochloride',\n 'Amoxicillin',\n 'Ampicillin',\n 'Anidulafungin',\n 'Anti-d (rh) immunoglobulin',\n 'Apixaban',\n 'Apremilast',\n 'Aripiprazole',\n 'Ascorbic acid',\n 'Atenolol',\n 'Atenolol 100mg',\n 'Atorvastatin',\n 'Atracurium besylate',\n 'Avibactam',\n 'Azathioprine',\n 'Azelaic acid',\n 'Baclofen',\n 'Benzocaine',\n 'Benzoyl peroxide',\n 'Benzylpenicillin (penicillin g)',\n 'Beractant',\n 'Bevacizumab',\n 'Bilastine',\n 'Bimatoprost',\n 'Bisacodyl',\n 'Bleomycin',\n 'Brinzolamide',\n 'Bromazepam',\n 'Bromocriptine mesylate',\n 'Bumetanide',\n 'Bupivacaine hydrochloride',\n 'Buspirone hydrochloride',\n 'Cabergoline',\n 'Cacl',\n 'Calcium carbonate',\n 'Calcium chloride',\n 'Calcium gluconate',\n 'Calcium magnesium',\n 'Calcium polystyrene sulfonate',\n 'Calcium-sandoz 1000',\n 'Calfactant',\n 'Canagliflozin',\n 'Captopril',\n 'Carbamazepine',\n 'Carbetocin',\n 'Carboplatin',\n 'Carboxymethylcellulose',\n 'Cariprazine',\n 'Carvedilol',\n 'Caspofungin',\n 'Cefaclor',\n 'Cefadroxil',\n 'Cefazolin sodium',\n 'Cefdinir',\n 'Cefepime',\n 'Cefixime',\n 'Cefotaxime',\n 'Cefpodoxime',\n 'Cefprozil',\n 'Ceftazidime',\n 'Ceftriaxone',\n 'Cefuroxime axetil',\n 'Cefuroxime sodium',\n 'Celecoxib',\n 'Cephalexin (cefalexin)',\n 'Cetrorelix',\n 'Chlorhexidine gluconate',\n 'Chloroquine',\n 'Chlorthalidone 25mg',\n 'Chlorzoxazone',\n 'Cinacalcet',\n 'Cisatracurium besilate',\n 'Cisplatin',\n 'Citalopram',\n 'Clarithromycin',\n 'Clemastine fumarate',\n 'Clomipramine hcl',\n 'Clonazepam',\n 'Clopidogrel',\n 'Cod liver oil',\n 'Colchicine',\n 'Colistimethate sodium',\n 'Co-trimoxazole',\n 'Crotamiton',\n 'Crotamiton 10%',\n 'Cyanocobalamin (vitamin b12)',\n 'Cyclobenzaprine',\n 'Cyclopentolate',\n 'Cyclophosphamide',\n 'Cyproheptadine hydrochloride',\n 'Cyproterone',\n 'Cyproterone acetate',\n 'Dapagliflozin',\n 'Daptomycin',\n 'Darbepoetin alfa',\n 'Deferoxamine mesylate',\n 'Degludec',\n \"Degludec 300 unit / liraglutide',\",\n 'Desloratadine',\n 'Desmopressin acetate',\n 'Desogestrel',\n 'Desvenlafaxine succinate',\n 'Dexlansoprazole',\n 'Dexmedetomidine',\n 'Dextromethorphan',\n 'Dextrose',\n 'Diazepam',\n 'Dienogest',\n 'Digoxin',\n 'Diltiazem hydrochloride',\n 'Dimenhydrinate',\n 'Dimethyl ether',\n 'Dinoprostone',\n 'Dobutamine',\n 'Docusate sodium',\n 'Domperidone',\n 'Dopamine',\n 'Dopamine hydrochloride',\n 'Dorzolamide',\n 'Doxazosin',\n 'Doxycycline',\n 'Drospirenone',\n 'Drospirenone 3mg',\n 'Dulaglutide',\n 'Duloxetine',\n 'Dutasteride',\n 'Econazole',\n 'Eletriptan',\n 'Empagliflozin',\n 'Enoxaparin sodium',\n 'Entacapone',\n 'Entecavir',\n 'Epinastine hydrochloride',\n 'Epoetin alfa (recombinant human erythropoietin)',\n 'Escitalopram oxalate',\n 'Esmolol',\n 'Esomeprazole',\n 'Etanercept',\n 'Etonogestrel',\n 'Evolocumab',\n 'Exemestane',\n 'Exenatide',\n 'Ezetimibe',\n 'Ezetimibe-atorvastatin',\n 'Famciclovir',\n 'Febuxostat',\n 'Felodipine',\n 'Fentanyl',\n 'Ferric carboxymaltose',\n 'Ferrous fumarate',\n 'Ferrous sulfate',\n 'Fexofenadine hydrochloride',\n 'Filgrastim',\n 'Finasteride',\n 'Fingolimod hydrochloride',\n 'Fluconazole',\n 'Flumazenil',\n 'Flunarizine',\n 'Fluorescein sodium',\n 'Fluorometholone',\n 'Fluoxetine',\n 'Flupentixol',\n 'Flupentixol (flupenthixol)',\n 'Fluvastatin',\n 'Fluvoxamine maleate',\n 'Folic acid',\n 'Follitropin alfa (recombinant human follicle stimulating hormone)',\n 'Follitropin beta (recombinant human follicle stimulating hormone)',\n 'Fondaparinux sodium 2.5 mg',\n 'Fosinopril sodium',\n 'Furosemide',\n 'Gabapentin',\n 'Gadopentetate dimeglumine',\n 'Gatifloxacin',\n 'Gemfibrozil',\n 'Gliclazide',\n 'Glimepiride',\n 'Glucagon',\n 'Glycerin',\n 'Glycerol (glycerin)',\n 'Goserelin acetate 3.6mg depot',\n 'Guaifenesin',\n 'Haloperidol',\n 'Heavy magnesium carbonate',\n 'Heparin',\n 'Heparin sodium',\n 'Hepatitis a vaccine',\n 'Hydralazine',\n 'Hydrochlorothiazide',\n 'Hydroquinone',\n 'Hydroxychloroquine',\n 'Hydroxychloroquine sulfate',\n 'Hydroxyprogesterone caproate',\n 'Ibuprofen',\n 'Imatinib',\n 'Imiquimod',\n 'Indapamide',\n 'Indapamide 1.5 mg sustained release',\n 'Infliximab',\n 'Insulin aspart',\n 'Insulin aspart protamine',\n 'Insulin degludec',\n 'Insulin detemir',\n 'Insulin glargine',\n 'Insulin glulisine',\n 'Insulin lispro',\n 'Interferon beta-1a',\n 'Iodixanol',\n 'Iohexol',\n 'Iopamidol',\n 'Iopromide',\n 'Irbesartan',\n 'Iron (iii) hydroxide sucrose complex',\n 'Isavuconazonium sulfate',\n 'Isoniazid',\n 'Isosorbide dinitrate',\n 'Itraconazole',\n 'Ivabradine',\n 'Ketamine hydrochloride',\n 'Ketoprofen',\n 'Labetalol',\n 'Labetalol hydrochloride',\n 'Lacosamide',\n 'Lactic acid',\n 'Lactulose',\n 'Lamivudine',\n 'Lamotrigine',\n 'Lansoprazole',\n 'Latanoprost',\n 'Leflunomide',\n 'Letrozole',\n 'Levetiracetam',\n 'Linagliptin',\n 'Linezolid',\n 'Liraglutide',\n 'Lisinopril',\n 'Lixisenatide',\n 'Loratadine',\n 'Losartan potassium',\n 'Luliconazole',\n 'Lurasidone',\n 'Magnesium citrate',\n 'Magnesium hydroxide',\n 'Magnesium sulfate',\n 'Maprotiline hydrochloride',\n 'Measles vaccine',\n 'Mebendazole',\n 'Mefenamic acid',\n 'Mefloquine',\n 'Meloxicam',\n 'Mepolizumab',\n 'Meropenem',\n 'Metformin',\n 'Metformin hydrochloride',\n 'Methotrexate',\n 'Methoxy polyethylene glycol-epoetin beta',\n 'Methyldopa',\n 'Methylene blue',\n 'Methylphenidate',\n 'Methylprednisolone',\n 'Methylprednisolone acetate',\n 'Metoclopramide',\n 'Metoclopramide hydrochloride',\n 'Micafungin',\n 'Midazolam',\n 'Midodrine hydrochloride',\n 'Milrinone',\n 'Minerals',\n 'Mirtazapine',\n 'Moclobemide',\n 'Montelukast sodium',\n 'Mumps vaccine',\n 'Mupirocin (pseudomonas acid)',\n 'Mycophenolate sodium',\n 'Naftifine',\n 'Naloxone hydrochloride',\n 'Naproxen',\n 'Nebivolol',\n 'Nifedipine',\n 'Nilotinib',\n 'Nimodipine',\n 'Nintedanib',\n 'Nitrofurantoin',\n 'Nizatidine',\n 'Ocrelizumab',\n 'Octreotide',\n 'Olanzapine',\n 'Omalizumab 150mg powder for injection',\n 'Omega-3 fatty acids',\n 'Omega-3 polyunsaturated fatty acids',\n 'Omeprazole',\n 'Ondansetron',\n 'Orlistat',\n 'Oseltamivir',\n 'Oxcarbazepine',\n 'Oxytocin',\n 'Paliperidone',\n 'Palivizumab',\n 'Pantoprazole',\n 'Paroxetine hydrochloride',\n 'Peginterferon alfa-2a',\n 'Peginterferon alfa-2b',\n 'Penicillin-v 200mg granules for 125mg/5ml',\n 'Pentoxifylline',\n 'Phenytoin',\n 'Phenytoin sodium',\n 'Pimecrolimus',\n 'Pinaverium bromide',\n 'Pioglitazone',\n 'Pioglitazone/glimepiride',\n 'Pioglitazone/metformin',\n 'Piperacillin',\n 'Pitavastatin',\n 'Pizotifen',\n 'Potassium chloride',\n 'Potassium iodide',\n 'Potassium phosphate',\n 'Pralidoxime',\n 'Pramipexole',\n 'Prasugrel',\n 'Praziquantel',\n 'Pregabalin',\n 'Progesterone',\n 'Promethazine',\n 'Propofol',\n 'Propranolol',\n 'Protamine sulfate',\n 'Pseudoephedrine',\n 'Pyrazinamide',\n 'Pyridostigmine',\n 'Pyridoxine',\n 'Quetiapine',\n 'Quinagolide',\n 'Rabeprazole',\n 'Ramipril',\n 'Ranibizumab',\n 'Repaglinide',\n 'Ribavirin',\n 'Rifaximin',\n 'Rimexolone',\n 'Risperidone',\n 'Rivaroxaban',\n 'Rivastigmine',\n 'Rosuvastatin',\n 'Rupatadine',\n 'Sacubitril',\n 'Salicylic acid',\n 'Saxagliptin',\n 'Saxagliptin hcl',\n 'Secnidazole',\n 'Semaglutide',\n 'Sertraline',\n 'Sevelamer',\n 'Sevoflurane',\n 'Silver nitrate',\n 'Silver sulfadiazine',\n 'Simethicone',\n 'Simethicone (activated dimethicone)',\n 'Simvastatin',\n 'Sitagliptin',\n 'Sodium bicarbonate',\n 'Sodium chloride',\n 'Sodium hydrogen carbonate',\n 'Sodium nitroprusside',\n 'Sodium picosulfate',\n 'Spironolactone',\n 'Succinylcholine',\n 'Sucralfate',\n 'Sugammadex',\n 'Sulbactam',\n 'Sulfamethoxazole',\n 'Sumatriptan',\n 'Tadalafil',\n 'Tamoxifen',\n 'Tamsulosin',\n 'Tamsulosin hydrochloride',\n 'Telmisartan',\n 'Terbutaline sulfate',\n 'Teriflunomide',\n 'Teriparatide',\n 'Testosterone enanthate',\n 'Testosterone undecanoate',\n 'Theophylline',\n 'Thiamine']"
     },
     "execution_count": 66,
     "metadata": {},
     "output_type": "execute_result"
    }
   ],
   "source": [
    "drugs_hjh"
   ],
   "metadata": {
    "collapsed": false,
    "ExecuteTime": {
     "end_time": "2023-09-05T15:21:25.325768300Z",
     "start_time": "2023-09-05T15:21:25.310146800Z"
    }
   }
  },
  {
   "cell_type": "code",
   "execution_count": 67,
   "outputs": [
    {
     "data": {
      "text/plain": "                   HJH Generic Name Lexi Generic Names  \\\n0                          Acarbose           acarbose   \n1                     Acetazolamide      acetazolamide   \n2                    Acetylcysteine     acetylcysteine   \n3    Acetylsalicylic acid (aspirin)            aspirin   \n4                        Adalimumab         adalimumab   \n..                              ...                ...   \n401                    Teriparatide       teriparatide   \n402          Testosterone enanthate       testosterone   \n403        Testosterone undecanoate       testosterone   \n404                    Theophylline       theophylline   \n405                        Thiamine           thiamine   \n\n     ScientificDescriptionCodeRoot  \n0                       7000000005  \n1                       7000000009  \n2                       7000000011  \n3                       7000000094  \n4                       7000000018  \n..                             ...  \n401                     7000001220  \n402                     7000001222  \n403                     7000001222  \n404                     7000001230  \n405                     7000001231  \n\n[406 rows x 3 columns]",
      "text/html": "<div>\n<style scoped>\n    .dataframe tbody tr th:only-of-type {\n        vertical-align: middle;\n    }\n\n    .dataframe tbody tr th {\n        vertical-align: top;\n    }\n\n    .dataframe thead th {\n        text-align: right;\n    }\n</style>\n<table border=\"1\" class=\"dataframe\">\n  <thead>\n    <tr style=\"text-align: right;\">\n      <th></th>\n      <th>HJH Generic Name</th>\n      <th>Lexi Generic Names</th>\n      <th>ScientificDescriptionCodeRoot</th>\n    </tr>\n  </thead>\n  <tbody>\n    <tr>\n      <th>0</th>\n      <td>Acarbose</td>\n      <td>acarbose</td>\n      <td>7000000005</td>\n    </tr>\n    <tr>\n      <th>1</th>\n      <td>Acetazolamide</td>\n      <td>acetazolamide</td>\n      <td>7000000009</td>\n    </tr>\n    <tr>\n      <th>2</th>\n      <td>Acetylcysteine</td>\n      <td>acetylcysteine</td>\n      <td>7000000011</td>\n    </tr>\n    <tr>\n      <th>3</th>\n      <td>Acetylsalicylic acid (aspirin)</td>\n      <td>aspirin</td>\n      <td>7000000094</td>\n    </tr>\n    <tr>\n      <th>4</th>\n      <td>Adalimumab</td>\n      <td>adalimumab</td>\n      <td>7000000018</td>\n    </tr>\n    <tr>\n      <th>...</th>\n      <td>...</td>\n      <td>...</td>\n      <td>...</td>\n    </tr>\n    <tr>\n      <th>401</th>\n      <td>Teriparatide</td>\n      <td>teriparatide</td>\n      <td>7000001220</td>\n    </tr>\n    <tr>\n      <th>402</th>\n      <td>Testosterone enanthate</td>\n      <td>testosterone</td>\n      <td>7000001222</td>\n    </tr>\n    <tr>\n      <th>403</th>\n      <td>Testosterone undecanoate</td>\n      <td>testosterone</td>\n      <td>7000001222</td>\n    </tr>\n    <tr>\n      <th>404</th>\n      <td>Theophylline</td>\n      <td>theophylline</td>\n      <td>7000001230</td>\n    </tr>\n    <tr>\n      <th>405</th>\n      <td>Thiamine</td>\n      <td>thiamine</td>\n      <td>7000001231</td>\n    </tr>\n  </tbody>\n</table>\n<p>406 rows × 3 columns</p>\n</div>"
     },
     "execution_count": 67,
     "metadata": {},
     "output_type": "execute_result"
    }
   ],
   "source": [
    "df_out = pd.DataFrame()\n",
    "df_out['HJH Generic Name'] = drugs_hjh; df_out['Lexi Generic Names'] = drugs_lexi; df_out['ScientificDescriptionCodeRoot'] = sci_code\n",
    "df_out"
   ],
   "metadata": {
    "collapsed": false,
    "ExecuteTime": {
     "end_time": "2023-09-05T15:21:25.932084500Z",
     "start_time": "2023-09-05T15:21:25.885415200Z"
    }
   }
  },
  {
   "cell_type": "code",
   "execution_count": 45,
   "outputs": [],
   "source": [
    "df_out.to_csv('output/GenericHJH_SciCode.csv',index=False,encoding='utf-8-sig')"
   ],
   "metadata": {
    "collapsed": false,
    "ExecuteTime": {
     "end_time": "2023-09-05T14:44:34.913900200Z",
     "start_time": "2023-09-05T14:44:34.893127500Z"
    }
   }
  },
  {
   "cell_type": "code",
   "execution_count": 47,
   "outputs": [],
   "source": [
    "df_hjh.to_csv('HJH-Lexicomp.csv',index=False)"
   ],
   "metadata": {
    "collapsed": false,
    "ExecuteTime": {
     "end_time": "2023-09-05T15:08:18.610391700Z",
     "start_time": "2023-09-05T15:08:18.579052700Z"
    }
   }
  },
  {
   "cell_type": "code",
   "execution_count": null,
   "outputs": [],
   "source": [],
   "metadata": {
    "collapsed": false
   }
  }
 ],
 "metadata": {
  "kernelspec": {
   "display_name": "Python 3",
   "language": "python",
   "name": "python3"
  },
  "language_info": {
   "codemirror_mode": {
    "name": "ipython",
    "version": 2
   },
   "file_extension": ".py",
   "mimetype": "text/x-python",
   "name": "python",
   "nbconvert_exporter": "python",
   "pygments_lexer": "ipython2",
   "version": "2.7.6"
  }
 },
 "nbformat": 4,
 "nbformat_minor": 0
}
